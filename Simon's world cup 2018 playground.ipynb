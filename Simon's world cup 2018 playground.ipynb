{
 "cells": [
  {
   "cell_type": "markdown",
   "metadata": {},
   "source": [
    "# Simon's world Cup 2018 Playground\n",
    "\n",
    "This is the playground of mine to play with world cup 2018's data. The data is based on [this free API](http://worldcup.sfg.io/). This notebook is the testfield and lab where I can play, explore and learn from this project of mine, so please bear with me if it's too messy."
   ]
  },
  {
   "cell_type": "code",
   "execution_count": 4,
   "metadata": {
    "collapsed": true
   },
   "outputs": [],
   "source": [
    "import json\n",
    "import urllib.request\n",
    "\n",
    "group_dict = {}\n",
    "team_dict = {}\n",
    "match_dict = {}"
   ]
  },
  {
   "cell_type": "markdown",
   "metadata": {},
   "source": [
    "### classes of the project"
   ]
  },
  {
   "cell_type": "code",
   "execution_count": 5,
   "metadata": {
    "collapsed": true
   },
   "outputs": [],
   "source": [
    "class wc_group(object):\n",
    "    def __init__(self, group_id, letter, teams):\n",
    "        self.group_id = group_id\n",
    "        self.letter = letter\n",
    "        self.teams = teams\n",
    "        \n",
    "    def __repr__(self):\n",
    "        return \"Group: \" + self.letter\n",
    "    \n",
    "    def teamInGroup(self):\n",
    "        for team in self.teams.values():\n",
    "            yield team\n",
    "        \n",
    "class wc_team(object):\n",
    "    match_dict = {}\n",
    "    completed_match_dict = {}\n",
    "    def __init__(self, team_id, country, fifa_code):\n",
    "        self.team_id = team_id\n",
    "        self.country = country\n",
    "        self.fifa_code = fifa_code\n",
    "        \n",
    "    def __repr__(self):\n",
    "        return self.country + \"(\" + self.fifa_code + \")\"\n",
    "    \n",
    "    def _addMatch(self, match):\n",
    "        if self.country in match.getTeams():\n",
    "            if match.getMatchId() not in self.match_dict:\n",
    "                self.match_dict[match.getMatchId()] = match\n",
    "                if match.isCompleted():\n",
    "                    if match.getMatchId not in self.match_dict:\n",
    "                        self.completed_match_dict[match.getMatchId()] = match\n",
    "                \n",
    "    def getFifaCode(self):\n",
    "        return self.fifa_code\n",
    "    \n",
    "    def getCountryNameWithCode(self):\n",
    "        return self.country + \"(\" + self.fifa_code + \")\"\n",
    "    \n",
    "class wc_match(object):\n",
    "    def __init__(self, location, venue, status , time, fifa_id, datetime ,home_team, away_team, home_event_list, away_event_list, winner):\n",
    "        self.location = location\n",
    "        self.venue = venue\n",
    "        self.status = status\n",
    "        self.time = time\n",
    "        self.fifa_id = fifa_id\n",
    "        self.datetime = datetime\n",
    "        self.home_team = home_team\n",
    "        self.away_team = away_team\n",
    "        self.home_event_list = home_event_list\n",
    "        self.away_event_list = away_event_list\n",
    "        if self.status=='completed':\n",
    "            if winner != 'Draw':\n",
    "                self.winner = self.home_team if self.home_team.getFifaCode() == winner else self.away_team\n",
    "            else:\n",
    "                self.winner = None\n",
    "        \n",
    "    def __repr__(self):\n",
    "        return \"Match \" + self.fifa_id + \": \" + self.home_team.getCountryNameWithCode() + \" v.s. \" + self.away_team.getCountryNameWithCode() +\\\n",
    "               \" on \" + self.datetime + \" in \" + self.venue\n",
    "    \n",
    "    def getMatchId(self):\n",
    "        return self.fifa_id\n",
    "    \n",
    "    def isCompleted(self):\n",
    "        return True if self.status == 'completed' else False\n"
   ]
  },
  {
   "cell_type": "markdown",
   "metadata": {},
   "source": [
    "### build the dict of group and the dict of team"
   ]
  },
  {
   "cell_type": "code",
   "execution_count": 7,
   "metadata": {
    "collapsed": true
   },
   "outputs": [],
   "source": [
    "group_results_json = urllib.request.urlopen('http://worldcup.sfg.io/teams/group_results')\n",
    "group_results_python = json.loads(group_results_json.read())\n",
    "\n",
    "for group in group_results_python:\n",
    "    team_dict_in_group = {}\n",
    "    for team in group['group']['teams']:\n",
    "        team_dict_in_group[team['team']['country']] = wc_team(team['team']['id'], team['team']['country'], team['team']['fifa_code'])\n",
    "        team_dict[team['team']['country']] = team_dict_in_group[team['team']['country']]\n",
    "    group_dict[group['group']['letter']] = wc_group(group['group']['id'], group['group']['letter'], team_dict_in_group)"
   ]
  },
  {
   "cell_type": "code",
   "execution_count": 8,
   "metadata": {},
   "outputs": [
    {
     "name": "stdout",
     "output_type": "stream",
     "text": [
      "Group: A\n",
      "Russia(RUS)\n",
      "Uruguay(URU)\n",
      "Egypt(EGY)\n",
      "Saudi Arabia(KSA)\n",
      "Group: B\n",
      "Iran(IRN)\n",
      "Spain(ESP)\n",
      "Portugal(POR)\n",
      "Morocco(MAR)\n",
      "Group: C\n",
      "France(FRA)\n",
      "Denmark(DEN)\n",
      "Australia(AUS)\n",
      "Peru(PER)\n",
      "Group: D\n",
      "Croatia(CRO)\n",
      "Iceland(ISL)\n",
      "Argentina(ARG)\n",
      "Nigeria(NGA)\n",
      "Group: E\n",
      "Serbia(SRB)\n",
      "Switzerland(SUI)\n",
      "Brazil(BRA)\n",
      "Costa Rica(CRC)\n",
      "Group: F\n",
      "Sweden(SWE)\n",
      "Mexico(MEX)\n",
      "Korea Republic(KOR)\n",
      "Germany(GER)\n",
      "Group: G\n",
      "Belgium(BEL)\n",
      "England(ENG)\n",
      "Tunisia(TUN)\n",
      "Panama(PAN)\n",
      "Group: H\n",
      "Japan(JPN)\n",
      "Senegal(SEN)\n",
      "Poland(POL)\n",
      "Colombia(COL)\n"
     ]
    }
   ],
   "source": [
    "# print them\n",
    "for g in group_dict.values():\n",
    "    print(g)\n",
    "    for t in g.teamInGroup():\n",
    "        print(t)"
   ]
  },
  {
   "cell_type": "markdown",
   "metadata": {},
   "source": [
    "### build all matches in group A"
   ]
  },
  {
   "cell_type": "code",
   "execution_count": 9,
   "metadata": {},
   "outputs": [],
   "source": [
    "g = group_dict['A']\n",
    "for t in g.teamInGroup():\n",
    "    f = urllib.request.urlopen(\"http://worldcup.sfg.io/matches/country?fifa_code=\" + t.getFifaCode())\n",
    "    match_list_for_this_team =  json.loads(f.read())\n",
    "    for m in match_list_for_this_team:\n",
    "        if not m['fifa_id'] in match_dict:\n",
    "            match_dict[m['fifa_id']] = wc_match(location = m['venue'], venue = m['location'], status = m['status'], time = m['time'],\n",
    "                                        fifa_id = m['fifa_id'], datetime = m['datetime'], home_team = team_dict[m['home_team']['country']],\n",
    "                                        away_team = team_dict[m['away_team']['country']], home_event_list = m['home_team_events'],\n",
    "                                        away_event_list = m['away_team_events'], winner = m['winner_code'])"
   ]
  },
  {
   "cell_type": "code",
   "execution_count": 10,
   "metadata": {},
   "outputs": [
    {
     "name": "stdout",
     "output_type": "stream",
     "text": [
      "Match 300331516: Uruguay(URU) v.s. Russia(RUS) on 2018-06-25T14:00:00Z in Samara Arena\n",
      "Match 300331495: Russia(RUS) v.s. Egypt(EGY) on 2018-06-19T18:00:00Z in Saint Petersburg Stadium\n",
      "Match 300331503: Russia(RUS) v.s. Saudi Arabia(KSA) on 2018-06-14T15:00:00Z in Luzhniki Stadium\n",
      "Match 300331530: Uruguay(URU) v.s. Saudi Arabia(KSA) on 2018-06-20T15:00:00Z in Rostov Arena\n",
      "Match 300353632: Egypt(EGY) v.s. Uruguay(URU) on 2018-06-15T12:00:00Z in Ekaterinburg Arena\n",
      "Match 300331509: Saudi Arabia(KSA) v.s. Egypt(EGY) on 2018-06-25T14:00:00Z in Volgograd Arena\n"
     ]
    }
   ],
   "source": [
    "# print the fetched match data so far (all group A matches)\n",
    "for m_id, match in match_dict.items():\n",
    "    print(match)"
   ]
  },
  {
   "cell_type": "code",
   "execution_count": null,
   "metadata": {
    "collapsed": true
   },
   "outputs": [],
   "source": []
  }
 ],
 "metadata": {
  "kernelspec": {
   "display_name": "Python 3",
   "language": "python",
   "name": "python3"
  },
  "language_info": {
   "codemirror_mode": {
    "name": "ipython",
    "version": 3
   },
   "file_extension": ".py",
   "mimetype": "text/x-python",
   "name": "python",
   "nbconvert_exporter": "python",
   "pygments_lexer": "ipython3",
   "version": "3.6.3"
  }
 },
 "nbformat": 4,
 "nbformat_minor": 2
}
