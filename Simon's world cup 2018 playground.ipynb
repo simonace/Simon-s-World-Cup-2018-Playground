{
 "cells": [
  {
   "cell_type": "markdown",
   "metadata": {},
   "source": [
    "# Simon's world Cup 2018 Playground\n",
    "\n",
    "This is the playground of mine to play with world cup 2018's data. The data is based on [this free API](http://worldcup.sfg.io/). This notebook is the testfield and lab where I can play, explore and learn from this project of mine, so please bear with me if it's too messy.\n",
    "\n",
    "<img src=\"./statics/227px-2018_FIFA_World_Cup.svg.png\">"
   ]
  },
  {
   "cell_type": "markdown",
   "metadata": {},
   "source": [
    "# NOTES\n",
    "\n",
    "### NOTES to title markdown cell above\n",
    "\n",
    "[ref/doc link](http://jupyter-notebook.readthedocs.io/en/latest/examples/Notebook/Working%20With%20Markdown%20Cells.html)\n",
    "\n",
    "1. Way to add Hyperlink\n",
    "    ```\n",
    "    [shown word](url)\n",
    "    ```\n",
    "2. Add image to the cell\n",
    "    ```\n",
    "    <img src=\"./statics/227px-2018_FIFA_World_Cup.svg.png\">\n",
    "    ```\n",
    "    \n",
    "### NOTES to ipwidgets\n",
    "[ipwidgets doc](http://ipywidgets.readthedocs.io/en/latest/index.html)\n",
    "\n",
    "##### 1. ipwidgets.Output\n",
    "[see this doc](http://ipywidgets.readthedocs.io/en/latest/examples/Output%20Widget.html)\n",
    "* the way to add strings to show\n",
    "    ```python\n",
    "    out = ipwidgets.Output()\n",
    "    with out:\n",
    "        print(\"hello world\")\n",
    "    display(out)\n",
    "    ```\n",
    "* the way to clear the Output\n",
    "    ```python\n",
    "    out.clear_output()\n",
    "    ```\n",
    "\n",
    "##### 2. ipwidgets.Image\n",
    "[see this doc](https://ipywidgets.readthedocs.io/en/latest/examples/Widget%20List.html?#Image)\n",
    "\n",
    "* The file must be open in 'b' mode\n",
    "    ```python\n",
    "    f_image = open(\"image.png\", 'rb')\n",
    "    ```\n",
    "\n",
    "##### 3. ipwidgets.interact and ipwidgets.interactive\n",
    "[see this doc](https://ipywidgets.readthedocs.io/en/latest/examples/Using%20Interact.html)\n",
    "\n",
    "**interact** directly display the widgets, while **interactive** returns a widgets which is not displayed directly.\n",
    "\n",
    "##### 4. use ipwidgets.VBox and ipwidgets.HBox to allign widgets (they work as containers)\n",
    "\n",
    "### NOTES to matplotlib\n",
    "[matplotlib doc](https://matplotlib.org/)\n",
    "\n",
    "##### 1. Bar Chart\n",
    "\n",
    "[doc](https://matplotlib.org/api/_as_gen/matplotlib.axes.Axes.bar.html?highlight=bar#matplotlib.axes.Axes.bar)\n",
    "\n",
    "see also:\n",
    "\n",
    "https://matplotlib.org/gallery/statistics/barchart_demo.html#sphx-glr-gallery-statistics-barchart-demo-py\n",
    "\n",
    "https://matplotlib.org/gallery/lines_bars_and_markers/barchart.html#sphx-glr-gallery-lines-bars-and-markers-barchart-py\n"
   ]
  },
  {
   "cell_type": "code",
   "execution_count": 3,
   "metadata": {
    "collapsed": true
   },
   "outputs": [],
   "source": [
    "import json\n",
    "import urllib.request\n",
    "\n",
    "group_dict = {}\n",
    "team_dict = {}\n",
    "match_dict = {}"
   ]
  },
  {
   "cell_type": "markdown",
   "metadata": {},
   "source": [
    "# classes of the project"
   ]
  },
  {
   "cell_type": "markdown",
   "metadata": {},
   "source": [
    "### group"
   ]
  },
  {
   "cell_type": "code",
   "execution_count": 4,
   "metadata": {
    "collapsed": true
   },
   "outputs": [],
   "source": [
    "class wc_group(object):\n",
    "    def __init__(self, group_id, letter, teams):\n",
    "        self.group_id = group_id\n",
    "        self.letter = letter\n",
    "        self.teams = teams\n",
    "        \n",
    "    def __repr__(self):\n",
    "        return \"Group: \" + self.letter\n",
    "    \n",
    "    def teamInGroup(self):\n",
    "        for team in self.teams.values():\n",
    "            yield team"
   ]
  },
  {
   "cell_type": "markdown",
   "metadata": {},
   "source": [
    "### team"
   ]
  },
  {
   "cell_type": "code",
   "execution_count": 5,
   "metadata": {
    "collapsed": true
   },
   "outputs": [],
   "source": [
    "class wc_team(object):\n",
    "\n",
    "    def __init__(self, team_id, country, fifa_code, wins, draws, losses, games_played, points, goals_for, goals_against, goal_differential):\n",
    "        self.team_match_dict = {}\n",
    "        self.team_completed_match_dict = {}\n",
    "        self.team_win_match_dict = {}\n",
    "        self.team_draw_match_dict = {}\n",
    "        self.team_loss_match_dict = {}\n",
    "        self.match_id_opponent_dict = {}\n",
    "        self.team_id = team_id\n",
    "        self.country = country\n",
    "        self.fifa_code = fifa_code\n",
    "        self.wins = wins\n",
    "        self.draws = draws\n",
    "        self.losses = losses\n",
    "        self.games_played = games_played\n",
    "        self.points = points\n",
    "        self.goals_for = goals_for\n",
    "        self.goals_against = goals_against\n",
    "        self.goal_differential = goal_differential\n",
    "        \n",
    "        \n",
    "    def __repr__(self):\n",
    "        return self.country + \"(\" + self.fifa_code + \") Wins:\" + str(self.wins) + \" Draws:\" + str(self.draws) +\\\n",
    "               \" Losses:\" + str(self.losses) + \" Games played:\" + str(self.games_played) + \" Points:\" + str(self.points) +\\\n",
    "               \" Goals for:\" + str(self.goals_for) + \" Goals against:\" + str(self.goals_against) + \" Goal differential:\" +\\\n",
    "               str(self.goal_differential)\n",
    "                \n",
    "    def classifyPlayedMatchesByResults(self):\n",
    "        for m in self.team_completed_match_dict.values():\n",
    "            if m.getWinner() == \"Draw\":\n",
    "                self.team_draw_match_dict[m.getMatchId()] = m\n",
    "            elif m.getWinner() == self:\n",
    "                self.team_win_match_dict[m.getMatchId()] = m\n",
    "            else:\n",
    "                self.team_loss_match_dict[m.getMatchId()] = m\n",
    "                        \n",
    "    def fetchDetailedMatchInfo(self):\n",
    "        # this function will add all detailed info of all matches of this team\n",
    "        matches_json = urllib.request.urlopen('http://worldcup.sfg.io/matches/country?fifa_code=' + self.fifa_code)\n",
    "        matches_python = json.loads(matches_json.read())\n",
    "        \n",
    "        for m in matches_python:\n",
    "            if not m['fifa_id'] in match_dict:\n",
    "                match_dict[m['fifa_id']] = wc_match(location = m['venue'], venue = m['location'],\n",
    "                                                    status = m['status'], time = m['time'],\n",
    "                                                    fifa_id = m['fifa_id'], datetime = m['datetime'],\n",
    "                                                    home_team = team_dict[m['home_team']['country']],\n",
    "                                                    away_team = team_dict[m['away_team']['country']],\n",
    "                                                    home_team_goals = m['home_team']['goals'],\n",
    "                                                    away_team_goals = m['away_team']['goals'],\n",
    "                                                    home_team_statistics = m['home_team_statistics'],\n",
    "                                                    away_team_statistics = m['away_team_statistics'],\n",
    "                                                    home_event_list = m['home_team_events'],\n",
    "                                                    away_event_list = m['away_team_events'], winner = m['winner_code'])\n",
    "            if not m['fifa_id'] in self.match_id_opponent_dict:\n",
    "                if m['home_team']['country'] == self.country:\n",
    "                    self.match_id_opponent_dict[m['fifa_id']] = team_dict[m['away_team']['country']]\n",
    "                else:\n",
    "                    self.match_id_opponent_dict[m['fifa_id']] = team_dict[m['home_team']['country']]\n",
    "                    \n",
    "            if not m['fifa_id'] in self.team_match_dict:\n",
    "                self.team_match_dict[m['fifa_id']] = match_dict[m['fifa_id']]\n",
    "            if match_dict[m['fifa_id']].isCompleted():\n",
    "                if not m['fifa_id'] in self.team_completed_match_dict:\n",
    "                    self.team_completed_match_dict[m['fifa_id']] = match_dict[m['fifa_id']]\n",
    "            \n",
    "        \n",
    "        matches_json.close()\n",
    "        \n",
    "        self.classifyPlayedMatchesByResults()\n",
    "        \n",
    "    def addMatch(self, m):\n",
    "        if not m.getMatchId() in self.team_match_dict:\n",
    "            self.team_match_dict[m.getMatchId()] = m\n",
    "        if m.isCompleted() and (not m.getMatchId() in self.team_completed_match_dict):\n",
    "            self.team_completed_match_dict[m.getMatchId()] = m\n",
    "        if not m.getMatchId() in self.match_id_opponent_dict:\n",
    "            if m.getHomeTeam()==self:\n",
    "                self.match_id_opponent_dict[m.getMatchId()] = m.getAwayTeam()\n",
    "            else:\n",
    "                self.match_id_opponent_dict[m.getMatchId()] = m.getHomeTeam()\n",
    "            \n",
    "        \n",
    "    \n",
    "    def getFifaCode(self):\n",
    "        return self.fifa_code\n",
    "    \n",
    "    def getCountryName(self):\n",
    "        return self.country\n",
    "    \n",
    "    def getCountryNameWithCode(self):\n",
    "        return self.country + \"(\" + self.fifa_code + \")\"\n",
    "    \n",
    "    def generateCompletedMatches(self):\n",
    "        for match in self.team_completed_match_dict.values():\n",
    "            yield match\n",
    "            \n",
    "    def getMatchDictByOpponent(self):\n",
    "        d = {}\n",
    "        for m in self.team_match_dict.values():\n",
    "            if m.getHomeTeam() == self:\n",
    "                d[\"v.s. \" + m.getAwayTeam().getCountryName() + \"   [\" + m.getMatchId() + \"]\"] = m\n",
    "            else:\n",
    "                d[\"v.s. \" + m.getHomeTeam().getCountryName() + \"   [\" + m.getMatchId() + \"]\"] = m\n",
    "        return d      "
   ]
  },
  {
   "cell_type": "markdown",
   "metadata": {},
   "source": [
    "### match"
   ]
  },
  {
   "cell_type": "code",
   "execution_count": 6,
   "metadata": {
    "collapsed": true
   },
   "outputs": [],
   "source": [
    "class wc_match(object):\n",
    "    def __init__(self, location, venue, status , time, fifa_id, datetime ,\n",
    "                 home_team_goals, away_team_goals,\n",
    "                 home_team_statistics, away_team_statistics,\n",
    "                 home_team, away_team, home_event_list, away_event_list, winner):\n",
    "        self.location = location\n",
    "        self.venue = venue\n",
    "        self.status = status\n",
    "        self.time = time\n",
    "        self.fifa_id = fifa_id\n",
    "        self.datetime = datetime\n",
    "        self.home_team_goals = home_team_goals\n",
    "        self.away_team_goals = away_team_goals\n",
    "        self.home_team_statistics = home_team_statistics\n",
    "        self.away_team_statistics = away_team_statistics\n",
    "        self.home_team = home_team\n",
    "        self.away_team = away_team\n",
    "        self.home_event_list = home_event_list\n",
    "        for d in self.home_event_list:\n",
    "            d['team'] = home_team\n",
    "        self.away_event_list = away_event_list\n",
    "        for d in self.away_event_list:\n",
    "            d['team'] = away_team\n",
    "        if self.status=='completed':\n",
    "            if winner != 'Draw':\n",
    "                self.winner = self.home_team if self.home_team.getFifaCode() == winner else self.away_team\n",
    "            else:\n",
    "                self.winner = \"Draw\"\n",
    "            self._buildOrderedEventList()\n",
    "        else:\n",
    "            self.ordered_event_list = []\n",
    "            self.winner = \"\"\n",
    "        \n",
    "    def __repr__(self):\n",
    "        return \"Match \" + self.fifa_id + \": \" + self.home_team.getCountryNameWithCode() + \" v.s. \" +\\\n",
    "               self.away_team.getCountryNameWithCode() + \" on \" + self.datetime + \" in \" + self.venue\n",
    "        \n",
    "    def _buildOrderedEventList(self):\n",
    "        from operator import itemgetter\n",
    "        e_list = self.home_event_list + self.away_event_list\n",
    "        self.ordered_event_list = sorted(e_list, key=itemgetter(\"time\",\"id\"))\n",
    "    \n",
    "    def getMatchId(self):\n",
    "        return self.fifa_id\n",
    "    \n",
    "    def isCompleted(self):\n",
    "        return True if self.status == 'completed' else False\n",
    "    \n",
    "    def getWinner(self):\n",
    "        return self.winner\n",
    "    \n",
    "    def getHomeTeam(self):\n",
    "        return self.home_team\n",
    "    \n",
    "    def getAwayTeam(self):\n",
    "        return self.away_team\n",
    "    \n",
    "    def printBasicMatchInfo(self):\n",
    "        print(\"Venue:          \" + self.venue + \", \" + self.location)\n",
    "        print(\"Date Time:      \" + self.datetime)\n",
    "        if len(self.home_team.getCountryNameWithCode())<15:\n",
    "            blank = ' '*(16 - len(self.home_team.getCountryNameWithCode()))\n",
    "        else:\n",
    "            blank = ' '*2\n",
    "        print(self.home_team.getCountryNameWithCode() + blank + \"v.s.\" + blank + self.away_team.getCountryNameWithCode())\n",
    "        if self.status == 'completed':\n",
    "            print(' '*8 + str(self.home_team_goals) + 8*' ' + '--' + 8*' ' + str(self.away_team_goals)) \n",
    "            if self.winner != 'Draw':             \n",
    "                print(self.winner.getCountryNameWithCode() + \" wins!\")\n",
    "            else:\n",
    "                print(\"Draw Game!\")\n",
    "        else:\n",
    "            print(\"Game is not yet finished!\")\n",
    "    \n",
    "    def printMatchEvents(self):\n",
    "        print(\"Events:\")\n",
    "        for d in self.ordered_event_list:\n",
    "            print(d)\n",
    "            \n",
    "    def getOrderedEventsList(self):\n",
    "        return self.ordered_event_list"
   ]
  },
  {
   "cell_type": "markdown",
   "metadata": {},
   "source": [
    "### build the dict of group and the dict of team"
   ]
  },
  {
   "cell_type": "code",
   "execution_count": 7,
   "metadata": {
    "collapsed": true
   },
   "outputs": [],
   "source": [
    "group_results_json = urllib.request.urlopen('http://worldcup.sfg.io/teams/group_results')\n",
    "group_results_python = json.loads(group_results_json.read())\n",
    "\n",
    "for group in group_results_python:\n",
    "    team_dict_in_group = {}\n",
    "    for team in group['group']['teams']:\n",
    "        team_dict_in_group[team['team']['country']] = wc_team(team['team']['id'], team['team']['country'], team['team']['fifa_code'],\n",
    "                                                              team['team']['wins'], team['team']['draws'], team['team']['losses'],\n",
    "                                                              team['team']['games_played'], team['team']['points'], team['team']['goals_for'],\n",
    "                                                              team['team']['goals_against'], team['team']['goal_differential'])\n",
    "        team_dict[team['team']['country']] = team_dict_in_group[team['team']['country']]\n",
    "    group_dict[group['group']['letter']] = wc_group(group['group']['id'], group['group']['letter'], team_dict_in_group)"
   ]
  },
  {
   "cell_type": "code",
   "execution_count": 20,
   "metadata": {},
   "outputs": [
    {
     "name": "stdout",
     "output_type": "stream",
     "text": [
      "Group: A\n",
      "Russia(RUS) Wins:2 Draws:0 Losses:0 Games played:2 Points:6 Goals for:8 Goals against:1 Goal differential:7\n",
      "Uruguay(URU) Wins:2 Draws:0 Losses:0 Games played:2 Points:6 Goals for:2 Goals against:0 Goal differential:2\n",
      "Egypt(EGY) Wins:0 Draws:0 Losses:2 Games played:2 Points:0 Goals for:1 Goals against:4 Goal differential:-3\n",
      "Saudi Arabia(KSA) Wins:0 Draws:0 Losses:2 Games played:2 Points:0 Goals for:0 Goals against:6 Goal differential:-6\n",
      "Group: B\n",
      "Spain(ESP) Wins:1 Draws:1 Losses:0 Games played:2 Points:4 Goals for:4 Goals against:3 Goal differential:1\n",
      "Portugal(POR) Wins:1 Draws:1 Losses:0 Games played:2 Points:4 Goals for:4 Goals against:3 Goal differential:1\n",
      "Iran(IRN) Wins:1 Draws:0 Losses:1 Games played:2 Points:3 Goals for:1 Goals against:1 Goal differential:0\n",
      "Morocco(MAR) Wins:0 Draws:0 Losses:2 Games played:2 Points:0 Goals for:0 Goals against:2 Goal differential:-2\n",
      "Group: C\n",
      "France(FRA) Wins:2 Draws:0 Losses:0 Games played:2 Points:6 Goals for:3 Goals against:1 Goal differential:2\n",
      "Denmark(DEN) Wins:1 Draws:1 Losses:0 Games played:2 Points:4 Goals for:2 Goals against:1 Goal differential:1\n",
      "Australia(AUS) Wins:0 Draws:1 Losses:1 Games played:2 Points:1 Goals for:2 Goals against:3 Goal differential:-1\n",
      "Peru(PER) Wins:0 Draws:0 Losses:2 Games played:2 Points:0 Goals for:0 Goals against:2 Goal differential:-2\n",
      "Group: D\n",
      "Croatia(CRO) Wins:2 Draws:0 Losses:0 Games played:2 Points:6 Goals for:5 Goals against:0 Goal differential:5\n",
      "Nigeria(NGA) Wins:1 Draws:0 Losses:1 Games played:2 Points:3 Goals for:2 Goals against:2 Goal differential:0\n",
      "Iceland(ISL) Wins:0 Draws:1 Losses:1 Games played:2 Points:1 Goals for:1 Goals against:3 Goal differential:-2\n",
      "Argentina(ARG) Wins:0 Draws:1 Losses:1 Games played:2 Points:1 Goals for:1 Goals against:4 Goal differential:-3\n",
      "Group: E\n",
      "Brazil(BRA) Wins:1 Draws:1 Losses:0 Games played:2 Points:4 Goals for:3 Goals against:1 Goal differential:2\n",
      "Switzerland(SUI) Wins:1 Draws:1 Losses:0 Games played:2 Points:4 Goals for:3 Goals against:2 Goal differential:1\n",
      "Serbia(SRB) Wins:1 Draws:0 Losses:1 Games played:2 Points:3 Goals for:2 Goals against:2 Goal differential:0\n",
      "Costa Rica(CRC) Wins:0 Draws:0 Losses:2 Games played:2 Points:0 Goals for:0 Goals against:3 Goal differential:-3\n",
      "Group: F\n",
      "Mexico(MEX) Wins:2 Draws:0 Losses:0 Games played:2 Points:6 Goals for:3 Goals against:1 Goal differential:2\n",
      "Sweden(SWE) Wins:1 Draws:0 Losses:1 Games played:2 Points:3 Goals for:2 Goals against:2 Goal differential:0\n",
      "Germany(GER) Wins:1 Draws:0 Losses:1 Games played:2 Points:3 Goals for:2 Goals against:2 Goal differential:0\n",
      "Korea Republic(KOR) Wins:0 Draws:0 Losses:2 Games played:2 Points:0 Goals for:1 Goals against:3 Goal differential:-2\n",
      "Group: G\n",
      "England(ENG) Wins:2 Draws:0 Losses:0 Games played:2 Points:6 Goals for:8 Goals against:2 Goal differential:6\n",
      "Belgium(BEL) Wins:2 Draws:0 Losses:0 Games played:2 Points:6 Goals for:8 Goals against:2 Goal differential:6\n",
      "Tunisia(TUN) Wins:0 Draws:0 Losses:2 Games played:2 Points:0 Goals for:3 Goals against:7 Goal differential:-4\n",
      "Panama(PAN) Wins:0 Draws:0 Losses:2 Games played:2 Points:0 Goals for:1 Goals against:9 Goal differential:-8\n",
      "Group: H\n",
      "Senegal(SEN) Wins:1 Draws:0 Losses:0 Games played:1 Points:3 Goals for:2 Goals against:1 Goal differential:1\n",
      "Japan(JPN) Wins:1 Draws:0 Losses:0 Games played:1 Points:3 Goals for:2 Goals against:1 Goal differential:1\n",
      "Poland(POL) Wins:0 Draws:0 Losses:1 Games played:1 Points:0 Goals for:1 Goals against:2 Goal differential:-1\n",
      "Colombia(COL) Wins:0 Draws:0 Losses:1 Games played:1 Points:0 Goals for:1 Goals against:2 Goal differential:-1\n"
     ]
    }
   ],
   "source": [
    "# print them\n",
    "for g in group_dict.values():\n",
    "    print(g)\n",
    "    for t in g.teamInGroup():\n",
    "        print(t)"
   ]
  },
  {
   "cell_type": "markdown",
   "metadata": {},
   "source": [
    "### build all matches in group A"
   ]
  },
  {
   "cell_type": "code",
   "execution_count": 21,
   "metadata": {
    "collapsed": true
   },
   "outputs": [],
   "source": [
    "for t in group_dict['A'].teamInGroup():\n",
    "    t.fetchDetailedMatchInfo()"
   ]
  },
  {
   "cell_type": "markdown",
   "metadata": {},
   "source": [
    "### build all matches in group B"
   ]
  },
  {
   "cell_type": "code",
   "execution_count": 22,
   "metadata": {
    "collapsed": true
   },
   "outputs": [],
   "source": [
    "for t in group_dict['B'].teamInGroup():\n",
    "    t.fetchDetailedMatchInfo()"
   ]
  },
  {
   "cell_type": "markdown",
   "metadata": {},
   "source": [
    "### print all completed matches of Russia in Group A"
   ]
  },
  {
   "cell_type": "code",
   "execution_count": 23,
   "metadata": {},
   "outputs": [
    {
     "name": "stdout",
     "output_type": "stream",
     "text": [
      "Match 300331503: Russia(RUS) v.s. Saudi Arabia(KSA) on 2018-06-14T15:00:00Z in Luzhniki Stadium\n",
      "Venue:          Luzhniki Stadium, Moscow\n",
      "Date Time:      2018-06-14T15:00:00Z\n",
      "Russia(RUS)     v.s.     Saudi Arabia(KSA)\n",
      "        5        --        0\n",
      "Russia(RUS) wins!\n",
      "Events:\n",
      "{'id': 5, 'type_of_event': 'goal', 'player': 'Iury GAZINSKY', 'time': \"12'\", 'team': Russia(RUS) Wins:2 Draws:0 Losses:0 Games played:2 Points:6 Goals for:8 Goals against:1 Goal differential:7}\n",
      "{'id': 1, 'type_of_event': 'substitution-in', 'player': 'Denis CHERYSHEV', 'time': \"24'\", 'team': Russia(RUS) Wins:2 Draws:0 Losses:0 Games played:2 Points:6 Goals for:8 Goals against:1 Goal differential:7}\n",
      "{'id': 320, 'type_of_event': 'substitution-out', 'player': 'Alan DZAGOEV', 'time': \"24'\", 'team': Russia(RUS) Wins:2 Draws:0 Losses:0 Games played:2 Points:6 Goals for:8 Goals against:1 Goal differential:7}\n",
      "{'id': 2, 'type_of_event': 'goal', 'player': 'Denis CHERYSHEV', 'time': \"43'\", 'team': Russia(RUS) Wins:2 Draws:0 Losses:0 Games played:2 Points:6 Goals for:8 Goals against:1 Goal differential:7}\n",
      "{'id': 4, 'type_of_event': 'substitution-in', 'player': 'Daler KUZIAEV', 'time': \"64'\", 'team': Russia(RUS) Wins:2 Draws:0 Losses:0 Games played:2 Points:6 Goals for:8 Goals against:1 Goal differential:7}\n",
      "{'id': 12, 'type_of_event': 'substitution-in', 'player': 'FAHAD ALMUWALLAD', 'time': \"64'\", 'team': Saudi Arabia(KSA) Wins:0 Draws:0 Losses:2 Games played:2 Points:0 Goals for:0 Goals against:6 Goal differential:-6}\n",
      "{'id': 322, 'type_of_event': 'substitution-out', 'player': 'Alexander SAMEDOV', 'time': \"64'\", 'team': Russia(RUS) Wins:2 Draws:0 Losses:0 Games played:2 Points:6 Goals for:8 Goals against:1 Goal differential:7}\n",
      "{'id': 325, 'type_of_event': 'substitution-out', 'player': 'ABDULLAH OTAYF', 'time': \"64'\", 'team': Saudi Arabia(KSA) Wins:0 Draws:0 Losses:2 Games played:2 Points:0 Goals for:0 Goals against:6 Goal differential:-6}\n",
      "{'id': 8, 'type_of_event': 'substitution-in', 'player': 'Artem DZYUBA', 'time': \"70'\", 'team': Russia(RUS) Wins:2 Draws:0 Losses:0 Games played:2 Points:6 Goals for:8 Goals against:1 Goal differential:7}\n",
      "{'id': 321, 'type_of_event': 'substitution-out', 'player': 'Fedor SMOLOV', 'time': \"70'\", 'team': Russia(RUS) Wins:2 Draws:0 Losses:0 Games played:2 Points:6 Goals for:8 Goals against:1 Goal differential:7}\n",
      "{'id': 9, 'type_of_event': 'goal', 'player': 'Artem DZYUBA', 'time': \"71'\", 'team': Russia(RUS) Wins:2 Draws:0 Losses:0 Games played:2 Points:6 Goals for:8 Goals against:1 Goal differential:7}\n",
      "{'id': 10, 'type_of_event': 'substitution-in', 'player': 'HATAN BAHBIR', 'time': \"72'\", 'team': Saudi Arabia(KSA) Wins:0 Draws:0 Losses:2 Games played:2 Points:0 Goals for:0 Goals against:6 Goal differential:-6}\n",
      "{'id': 323, 'type_of_event': 'substitution-out', 'player': 'YAHIA ALSHEHRI', 'time': \"72'\", 'team': Saudi Arabia(KSA) Wins:0 Draws:0 Losses:2 Games played:2 Points:0 Goals for:0 Goals against:6 Goal differential:-6}\n",
      "{'id': 326, 'type_of_event': 'substitution-in', 'player': 'HATAN BAHBRI', 'time': \"72'\", 'team': Saudi Arabia(KSA) Wins:0 Draws:0 Losses:2 Games played:2 Points:0 Goals for:0 Goals against:6 Goal differential:-6}\n",
      "{'id': 13, 'type_of_event': 'substitution-in', 'player': 'MUHANNAD ASIRI', 'time': \"85'\", 'team': Saudi Arabia(KSA) Wins:0 Draws:0 Losses:2 Games played:2 Points:0 Goals for:0 Goals against:6 Goal differential:-6}\n",
      "{'id': 324, 'type_of_event': 'substitution-out', 'player': 'MOHAMMED ALSAHLAWI', 'time': \"85'\", 'team': Saudi Arabia(KSA) Wins:0 Draws:0 Losses:2 Games played:2 Points:0 Goals for:0 Goals against:6 Goal differential:-6}\n",
      "{'id': 6, 'type_of_event': 'yellow-card', 'player': 'Aleksandr GOLOVIN', 'time': \"88'\", 'team': Russia(RUS) Wins:2 Draws:0 Losses:0 Games played:2 Points:6 Goals for:8 Goals against:1 Goal differential:7}\n",
      "{'id': 3, 'type_of_event': 'goal', 'player': 'Denis CHERYSHEV', 'time': \"90'+1'\", 'team': Russia(RUS) Wins:2 Draws:0 Losses:0 Games played:2 Points:6 Goals for:8 Goals against:1 Goal differential:7}\n",
      "{'id': 11, 'type_of_event': 'yellow-card', 'player': 'TAISEER ALJASSAM', 'time': \"90'+3'\", 'team': Saudi Arabia(KSA) Wins:0 Draws:0 Losses:2 Games played:2 Points:0 Goals for:0 Goals against:6 Goal differential:-6}\n",
      "{'id': 7, 'type_of_event': 'goal', 'player': 'Aleksandr GOLOVIN', 'time': \"90'+4'\", 'team': Russia(RUS) Wins:2 Draws:0 Losses:0 Games played:2 Points:6 Goals for:8 Goals against:1 Goal differential:7}\n",
      "Match 300331495: Russia(RUS) v.s. Egypt(EGY) on 2018-06-19T18:00:00Z in Saint Petersburg Stadium\n",
      "Venue:          Saint Petersburg Stadium, St. Petersburg\n",
      "Date Time:      2018-06-19T18:00:00Z\n",
      "Russia(RUS)     v.s.     Egypt(EGY)\n",
      "        3        --        1\n",
      "Russia(RUS) wins!\n",
      "Events:\n",
      "{'id': 241, 'type_of_event': 'goal-own', 'player': 'AHMED FATHI', 'time': \"47'\", 'team': Egypt(EGY) Wins:0 Draws:0 Losses:2 Games played:2 Points:0 Goals for:1 Goals against:4 Goal differential:-3}\n",
      "{'id': 242, 'type_of_event': 'yellow-card', 'player': 'TREZEGUET', 'time': \"57'\", 'team': Egypt(EGY) Wins:0 Draws:0 Losses:2 Games played:2 Points:0 Goals for:1 Goals against:4 Goal differential:-3}\n",
      "{'id': 305, 'type_of_event': 'yellow-card', 'player': 'TREZIGUET', 'time': \"57'\", 'team': Egypt(EGY) Wins:0 Draws:0 Losses:2 Games played:2 Points:0 Goals for:1 Goals against:4 Goal differential:-3}\n",
      "{'id': 243, 'type_of_event': 'goal', 'player': 'Denis CHERYSHEV', 'time': \"59'\", 'team': Russia(RUS) Wins:2 Draws:0 Losses:0 Games played:2 Points:6 Goals for:8 Goals against:1 Goal differential:7}\n",
      "{'id': 244, 'type_of_event': 'goal', 'player': 'Artem DZYUBA', 'time': \"62'\", 'team': Russia(RUS) Wins:2 Draws:0 Losses:0 Games played:2 Points:6 Goals for:8 Goals against:1 Goal differential:7}\n",
      "{'id': 245, 'type_of_event': 'substitution-out', 'player': 'MOHAMED ELNENY', 'time': \"64'\", 'team': Egypt(EGY) Wins:0 Draws:0 Losses:2 Games played:2 Points:0 Goals for:1 Goals against:4 Goal differential:-3}\n",
      "{'id': 246, 'type_of_event': 'substitution-in', 'player': 'AMR WARDA', 'time': \"64'\", 'team': Egypt(EGY) Wins:0 Draws:0 Losses:2 Games played:2 Points:0 Goals for:1 Goals against:4 Goal differential:-3}\n",
      "{'id': 247, 'type_of_event': 'substitution-out', 'player': 'TREZEGUET', 'time': \"68'\", 'team': Egypt(EGY) Wins:0 Draws:0 Losses:2 Games played:2 Points:0 Goals for:1 Goals against:4 Goal differential:-3}\n",
      "{'id': 248, 'type_of_event': 'substitution-in', 'player': 'RAMADAN SOBHY', 'time': \"68'\", 'team': Egypt(EGY) Wins:0 Draws:0 Losses:2 Games played:2 Points:0 Goals for:1 Goals against:4 Goal differential:-3}\n",
      "{'id': 306, 'type_of_event': 'substitution-out', 'player': 'TREZIGUET', 'time': \"68'\", 'team': Egypt(EGY) Wins:0 Draws:0 Losses:2 Games played:2 Points:0 Goals for:1 Goals against:4 Goal differential:-3}\n",
      "{'id': 251, 'type_of_event': 'goal-penalty', 'player': 'MOHAMED SALAH', 'time': \"73'\", 'team': Egypt(EGY) Wins:0 Draws:0 Losses:2 Games played:2 Points:0 Goals for:1 Goals against:4 Goal differential:-3}\n",
      "{'id': 249, 'type_of_event': 'substitution-out', 'player': 'Denis CHERYSHEV', 'time': \"74'\", 'team': Russia(RUS) Wins:2 Draws:0 Losses:0 Games played:2 Points:6 Goals for:8 Goals against:1 Goal differential:7}\n",
      "{'id': 250, 'type_of_event': 'substitution-in', 'player': 'Daler KUZIAEV', 'time': \"74'\", 'team': Russia(RUS) Wins:2 Draws:0 Losses:0 Games played:2 Points:6 Goals for:8 Goals against:1 Goal differential:7}\n",
      "{'id': 252, 'type_of_event': 'substitution-out', 'player': 'Artem DZYUBA', 'time': \"79'\", 'team': Russia(RUS) Wins:2 Draws:0 Losses:0 Games played:2 Points:6 Goals for:8 Goals against:1 Goal differential:7}\n",
      "{'id': 253, 'type_of_event': 'substitution-in', 'player': 'Fedor SMOLOV', 'time': \"79'\", 'team': Russia(RUS) Wins:2 Draws:0 Losses:0 Games played:2 Points:6 Goals for:8 Goals against:1 Goal differential:7}\n",
      "{'id': 255, 'type_of_event': 'substitution-out', 'player': 'MARWAN MOHSEN', 'time': \"82'\", 'team': Egypt(EGY) Wins:0 Draws:0 Losses:2 Games played:2 Points:0 Goals for:1 Goals against:4 Goal differential:-3}\n",
      "{'id': 256, 'type_of_event': 'substitution-in', 'player': 'KAHRABA', 'time': \"82'\", 'team': Egypt(EGY) Wins:0 Draws:0 Losses:2 Games played:2 Points:0 Goals for:1 Goals against:4 Goal differential:-3}\n",
      "{'id': 254, 'type_of_event': 'yellow-card', 'player': 'Fedor SMOLOV', 'time': \"84'\", 'team': Russia(RUS) Wins:2 Draws:0 Losses:0 Games played:2 Points:6 Goals for:8 Goals against:1 Goal differential:7}\n",
      "{'id': 257, 'type_of_event': 'substitution-out', 'player': 'Yury ZHIRKOV', 'time': \"86'\", 'team': Russia(RUS) Wins:2 Draws:0 Losses:0 Games played:2 Points:6 Goals for:8 Goals against:1 Goal differential:7}\n",
      "{'id': 258, 'type_of_event': 'substitution-in', 'player': 'Fedor KUDRIASHOV', 'time': \"86'\", 'team': Russia(RUS) Wins:2 Draws:0 Losses:0 Games played:2 Points:6 Goals for:8 Goals against:1 Goal differential:7}\n"
     ]
    }
   ],
   "source": [
    "for m in team_dict['Russia'].generateCompletedMatches():\n",
    "    print(m)\n",
    "    m.printBasicMatchInfo()\n",
    "    m.printMatchEvents()"
   ]
  },
  {
   "cell_type": "markdown",
   "metadata": {},
   "source": [
    "### add all matches"
   ]
  },
  {
   "cell_type": "code",
   "execution_count": 8,
   "metadata": {
    "collapsed": true
   },
   "outputs": [],
   "source": [
    "all_matches_json = urllib.request.urlopen('http://worldcup.sfg.io/matches')\n",
    "all_matches_python = json.loads(all_matches_json.read())\n",
    "\n",
    "for m in all_matches_python:\n",
    "    if not m['fifa_id'] in match_dict:\n",
    "        if (m['home_team']['country'] != \"To Be Determined\") and (m['away_team']['country'] != \"To Be Determined\"):\n",
    "            match_dict[m['fifa_id']] = wc_match(location = m['venue'], venue = m['location'],\n",
    "                                                status = m['status'], time = m['time'],\n",
    "                                                fifa_id = m['fifa_id'], datetime = m['datetime'],\n",
    "                                                home_team = team_dict[m['home_team']['country']],\n",
    "                                                away_team = team_dict[m['away_team']['country']],\n",
    "                                                home_team_goals = m['home_team']['goals'],\n",
    "                                                away_team_goals = m['away_team']['goals'],\n",
    "                                                home_team_statistics = m['home_team_statistics'],\n",
    "                                                away_team_statistics = m['away_team_statistics'],\n",
    "                                                home_event_list = m['home_team_events'],\n",
    "                                                away_event_list = m['away_team_events'], winner = m['winner_code'])\n",
    "            team_dict[m['home_team']['country']].addMatch(match_dict[m['fifa_id']])\n",
    "            team_dict[m['away_team']['country']].addMatch(match_dict[m['fifa_id']])\n",
    "            \n",
    "    "
   ]
  },
  {
   "cell_type": "markdown",
   "metadata": {},
   "source": [
    "## interactive with *ipwidgets*"
   ]
  },
  {
   "cell_type": "code",
   "execution_count": 9,
   "metadata": {},
   "outputs": [
    {
     "data": {
      "application/vnd.jupyter.widget-view+json": {
       "model_id": "16d545a67ae64b3fb1c03f570ec068b2",
       "version_major": 2,
       "version_minor": 0
      },
      "text/plain": [
       "A Jupyter Widget"
      ]
     },
     "metadata": {},
     "output_type": "display_data"
    }
   ],
   "source": [
    "import ipywidgets as widgets\n",
    "out = widgets.Output()\n",
    "match_info_out = widgets.Output(layout={'border': '1px solid black'})\n",
    "\n",
    "\n",
    "def showMatchInfo(x):\n",
    "    match_info_out.clear_output()\n",
    "    with match_info_out:\n",
    "        x.printBasicMatchInfo()\n",
    "    display(match_info_out)\n",
    "    button_show_events = widgets.Button(description=\"Show Events\")\n",
    "    button_home_statistics = widgets.Button(description = x.getHomeTeam().getCountryName() + \" statistics\")\n",
    "    button_away_statistics = widgets.Button(description = x.getAwayTeam().getCountryName() + \" statistics\")\n",
    "    f_flag_home = open(\"./statics/Flag_of_\" + x.getHomeTeam().getCountryName() + \".svg.png\", 'rb').read()\n",
    "    f_flag_away = open(\"./statics/Flag_of_\" + x.getAwayTeam().getCountryName() + \".svg.png\", 'rb').read()\n",
    "    flag_home = widgets.Image(value=f_flag_home, format='png', width=45, height=9)\n",
    "    flag_away = widgets.Image(value=f_flag_away, format='png', width=45, height=9)\n",
    "    bout=widgets.Output()\n",
    "    def buttonShowEventsOnClick(b):\n",
    "        bout.clear_output()\n",
    "        with bout:\n",
    "            for e in x.getOrderedEventsList():\n",
    "                if e[\"type_of_event\"] in ['yellow-card', 'red-card', 'substitution-in', 'substitution-out']:\n",
    "                    f_event_type = open(\"./statics/\" + e[\"type_of_event\"] + \".svg.png\", 'rb').read()\n",
    "                    event_type = widgets.Image(value=f_event_type, format='png', width=12, height=24)\n",
    "                elif e['type_of_event'] in ['goal-own','goal-penalty', 'goal']:\n",
    "                    goal_type_out = widgets.Output(layout={'border': '1px solid red'})\n",
    "                    with goal_type_out:\n",
    "                        if e['type_of_event'] == 'goal-own':\n",
    "                            print(\"o.g.\")\n",
    "                        elif e['type_of_event'] == 'goal-penalty':\n",
    "                            print(\"pen.\")\n",
    "                    f_event_type = open(\"./statics/goal.svg.png\", 'rb').read()\n",
    "                    if e['type_of_event'] == 'goal':\n",
    "                        event_type = widgets.Image(value=f_event_type, format='png', width=24, height=24)\n",
    "                    else:\n",
    "                        event_type = widgets.HBox([widgets.Image(value=f_event_type, format='png', width=24, height=24), goal_type_out])\n",
    "                else:\n",
    "                    event_type = widgets.Output(layout={'border': '1px solid black'})\n",
    "                    with event_type:\n",
    "                        print(e[\"type_of_event\"])\n",
    "                event_time = widgets.Output(layout={'border': '3px solid black'})\n",
    "                with event_time:\n",
    "                    print(e['time'])\n",
    "                event_player = widgets.Output()\n",
    "                with event_player:\n",
    "                    print(e['player'])\n",
    "                event_flag = flag_home if e['team']==x.getHomeTeam() else flag_away\n",
    "                event_info_box = widgets.HBox([event_time, event_type, event_player, event_flag])\n",
    "                display(event_info_box)\n",
    "                \n",
    "    def buttonShowHomeStatisticsOnClick(b):\n",
    "        bout.clear_output()\n",
    "        with bout:\n",
    "            for k, v in x.home_team_statistics.items():\n",
    "                print(k + \" \" + str(v))\n",
    "    def buttonShowAwayStatisticsOnClick(b):\n",
    "        bout.clear_output()\n",
    "        with bout:\n",
    "            for k, v in x.away_team_statistics.items():\n",
    "                print(k + \" \" + str(v))\n",
    "    button_show_events.on_click(buttonShowEventsOnClick)\n",
    "    button_home_statistics.on_click(buttonShowHomeStatisticsOnClick)\n",
    "    button_away_statistics.on_click(buttonShowAwayStatisticsOnClick)\n",
    "    if x.isCompleted():\n",
    "        #display(button_show_events)\n",
    "        #display(button_home_statistics)\n",
    "        #display(button_away_statistics)\n",
    "        #display(bout)\n",
    "        buttons_results_box = widgets.VBox([widgets.HBox([button_show_events, button_home_statistics, button_away_statistics]), bout])\n",
    "        display(buttons_results_box)\n",
    "\n",
    "def showTeamInfo(x):\n",
    "    out.clear_output()\n",
    "    with out:\n",
    "        print(x)\n",
    "    fi = open(\"./statics/Flag_of_\" + x.getCountryName() + \".svg.png\", 'rb')\n",
    "    image = fi.read()\n",
    "    team_flag = widgets.Image(value=image, format='png', width=36, height=6)\n",
    "    team_info_box = widgets.HBox([team_flag, out])\n",
    "    display(team_info_box)\n",
    "    if x.team_match_dict:\n",
    "        choose_match_dropdown = widgets.interactive(showMatchInfo, x=widgets.Dropdown(description=\"Match\",\n",
    "                                                                                         options=x.getMatchDictByOpponent()))\n",
    "        display(choose_match_dropdown)\n",
    "        widgets.VBox([choose_team_dropdown, team_info_box, choose_match_dropdown, match_info_out])\n",
    "        \n",
    "\n",
    "\n",
    "choose_team_dropdown = widgets.interactive(showTeamInfo, x =widgets.Dropdown(description=\"Team\", options=team_dict))\n",
    "display(choose_team_dropdown)"
   ]
  },
  {
   "cell_type": "markdown",
   "metadata": {
    "collapsed": true
   },
   "source": [
    "## try visualization with matplotlib"
   ]
  },
  {
   "cell_type": "markdown",
   "metadata": {},
   "source": [
    "#### bar chart"
   ]
  },
  {
   "cell_type": "code",
   "execution_count": 15,
   "metadata": {},
   "outputs": [
    {
     "data": {
      "image/png": "[encoded data removed]",
      "text/plain": [
       "<matplotlib.figure.Figure at 0xb663f98>"
      ]
     },
     "metadata": {},
     "output_type": "display_data"
    }
   ],
   "source": [
    "import numpy as np\n",
    "import matplotlib.pyplot as plt\n",
    "m = match_dict['300331503']\n",
    "\n",
    "wanted_keys = ['corners', 'offsides', 'attempts_on_goal', 'fouls_committed']\n",
    "n_groups = len(wanted_keys)\n",
    "home_team_shown_data = []\n",
    "away_team_shown_data = []\n",
    "for k in wanted_keys:\n",
    "    home_team_shown_data.append(m.home_team_statistics[k])\n",
    "    away_team_shown_data.append(m.away_team_statistics[k])\n",
    "\n",
    "fig, ax = plt.subplots()\n",
    "index = np.arange(n_groups)\n",
    "bar_width = 0.4\n",
    "opacity = 0.8\n",
    "\n",
    "rects1 = ax.bar(index, home_team_shown_data, bar_width,\n",
    "                alpha=opacity, color='b',\n",
    "                label=m.home_team_statistics['country'])\n",
    "\n",
    "rects2 = ax.bar(index + bar_width, away_team_shown_data, bar_width,\n",
    "                alpha=opacity, color='r',\n",
    "                label=m.away_team_statistics['country'])\n",
    "\n",
    "ax.set_title('Statistics in Match ' + m.getMatchId() + '\\n' + m.getHomeTeam().getCountryName() + '  v.s.  ' + m.getAwayTeam().getCountryName())\n",
    "ax.set_xticks(index + bar_width / 2)\n",
    "ax.set_xticklabels(wanted_keys)\n",
    "\n",
    "# show value labels above the bars\n",
    "rects = ax.patches\n",
    "for rect in rects:\n",
    "    height = rect.get_height()\n",
    "    ax.text(rect.get_x() + rect.get_width() / 2, height, height,\n",
    "            ha='center', va='bottom')\n",
    "\n",
    "\n",
    "ax.legend()\n",
    "fig.tight_layout()\n",
    "plt.show()"
   ]
  },
  {
   "cell_type": "code",
   "execution_count": null,
   "metadata": {
    "collapsed": true
   },
   "outputs": [],
   "source": []
  }
 ],
 "metadata": {
  "kernelspec": {
   "display_name": "Python 3",
   "language": "python",
   "name": "python3"
  },
  "language_info": {
   "codemirror_mode": {
    "name": "ipython",
    "version": 3
   },
   "file_extension": ".py",
   "mimetype": "text/x-python",
   "name": "python",
   "nbconvert_exporter": "python",
   "pygments_lexer": "ipython3",
   "version": "3.6.3"
  }
 },
 "nbformat": 4,
 "nbformat_minor": 2
}
